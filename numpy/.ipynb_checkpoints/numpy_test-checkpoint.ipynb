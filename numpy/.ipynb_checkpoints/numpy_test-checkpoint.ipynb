{
 "cells": [
  {
   "cell_type": "code",
   "execution_count": 34,
   "metadata": {},
   "outputs": [],
   "source": [
    "import numpy as np"
   ]
  },
  {
   "cell_type": "code",
   "execution_count": 35,
   "metadata": {},
   "outputs": [],
   "source": [
    "# 넘파이 배열 생성\n",
    "A = np.array([1, 2, 3, 4, 5, 6, 7, 8, 9])\n",
    "B = np.array([[1, 2, 3], [4, 5, 6], [7, 8, 9]])"
   ]
  },
  {
   "cell_type": "code",
   "execution_count": 36,
   "metadata": {},
   "outputs": [
    {
     "name": "stdout",
     "output_type": "stream",
     "text": [
      "[1 2 3 4 5 6 7 8 9]\n",
      "[[1 2 3]\n",
      " [4 5 6]\n",
      " [7 8 9]]\n"
     ]
    }
   ],
   "source": [
    "print(A)\n",
    "print(B)"
   ]
  },
  {
   "cell_type": "code",
   "execution_count": 37,
   "metadata": {
    "scrolled": true
   },
   "outputs": [
    {
     "name": "stdout",
     "output_type": "stream",
     "text": [
      "[0 1 2 3 4 5 6 7 8 9]\n",
      "[0.  0.1 0.2 0.3 0.4 0.5 0.6 0.7 0.8 0.9]\n"
     ]
    }
   ],
   "source": [
    "# 일정 step으로 증가하는 배열 생성\n",
    "step = np.arange(0, 10, 1)\n",
    "print(step)\n",
    "step2 = np.arange(0, 1, 0.1)\n",
    "print(step2)"
   ]
  },
  {
   "cell_type": "code",
   "execution_count": 38,
   "metadata": {},
   "outputs": [
    {
     "data": {
      "text/plain": [
       "(10,)"
      ]
     },
     "execution_count": 38,
     "metadata": {},
     "output_type": "execute_result"
    }
   ],
   "source": [
    "# 배열의 형태 확인\n",
    "step.shape"
   ]
  },
  {
   "cell_type": "code",
   "execution_count": 39,
   "metadata": {},
   "outputs": [
    {
     "name": "stdout",
     "output_type": "stream",
     "text": [
      "(2, 5)\n",
      "<class 'tuple'>\n",
      "2\n",
      "5\n"
     ]
    }
   ],
   "source": [
    "# 행렬 모양 바꾸기\n",
    "# shape는 튜플형태 자료형\n",
    "step2 = step2.reshape(2, 5)\n",
    "print(step2.shape)\n",
    "print(type(step2.shape))\n",
    "print(step2.shape[0])\n",
    "print(step2.shape[1])"
   ]
  },
  {
   "cell_type": "code",
   "execution_count": 40,
   "metadata": {},
   "outputs": [
    {
     "name": "stdout",
     "output_type": "stream",
     "text": [
      "[[0. 0.]\n",
      " [0. 0.]]\n"
     ]
    }
   ],
   "source": [
    "# 영행렬 생성\n",
    "zeromat = np.zeros((2, 2))\n",
    "print(zeromat)"
   ]
  },
  {
   "cell_type": "code",
   "execution_count": 41,
   "metadata": {},
   "outputs": [
    {
     "name": "stdout",
     "output_type": "stream",
     "text": [
      "[[1. 0. 0. 0.]\n",
      " [0. 1. 0. 0.]\n",
      " [0. 0. 1. 0.]\n",
      " [0. 0. 0. 1.]]\n"
     ]
    }
   ],
   "source": [
    "# 단위행렬 생성\n",
    "I = np.eye(4)\n",
    "print(I)"
   ]
  },
  {
   "cell_type": "code",
   "execution_count": 42,
   "metadata": {},
   "outputs": [
    {
     "name": "stdout",
     "output_type": "stream",
     "text": [
      "[[1. 2. 3.]\n",
      " [4. 5. 6.]\n",
      " [7. 8. 9.]]\n"
     ]
    }
   ],
   "source": [
    "# 행렬 곱셈\n",
    "# 인공신경망을 만드는데 아주 중요한 연산\n",
    "I = np.eye(3)\n",
    "A = np.array([1, 2, 3, 4, 5, 6, 7, 8, 9])\n",
    "A = A.reshape(3, 3)\n",
    "M = np.dot(A, I)\n",
    "print(M)"
   ]
  },
  {
   "cell_type": "code",
   "execution_count": 43,
   "metadata": {},
   "outputs": [
    {
     "name": "stdout",
     "output_type": "stream",
     "text": [
      "45\n",
      "[ 6 15 24]\n",
      "[12 15 18]\n",
      "[13  6 10]\n",
      "[42  9  9]\n"
     ]
    }
   ],
   "source": [
    "# 행렬 요소의 합\n",
    "S = np.sum(A)\n",
    "print(S)\n",
    "# 각 행의 합\n",
    "S2 = np.sum(A, axis=1)\n",
    "#각 열의 합\n",
    "S3 = np.sum(A, axis=0)\n",
    "print(S2)\n",
    "print(S3)\n",
    "# 두 행렬 각 요소의 합\n",
    "mat1 = np.array([7, 3, 1])\n",
    "mat2 = np.array([6, 3, 9])\n",
    "mat3 = mat1 + mat2\n",
    "print(mat3)\n",
    "# 두 행렬 각 요소의 곱\n",
    "mat4 = mat1 * mat2\n",
    "print(mat4)\n",
    "# - / 연산도 동일하게 사용 가능"
   ]
  },
  {
   "cell_type": "code",
   "execution_count": 20,
   "metadata": {},
   "outputs": [
    {
     "name": "stdout",
     "output_type": "stream",
     "text": [
      "[[0.31728034 0.84372891 0.96575879]\n",
      " [0.52001892 0.73354    0.67632751]]\n",
      "[[-0.84704286 -0.01158063  0.38641571]\n",
      " [-0.08443237 -1.62943443 -1.18640445]]\n",
      "['e' 'e' 'a']\n",
      "['b' 'c' 'a']\n"
     ]
    }
   ],
   "source": [
    "# unified distribution을 따르는 난수\n",
    "# 0~1의 실수값\n",
    "rndmat = np.random.rand(2, 3)\n",
    "print(rndmat)\n",
    "# 기댓값이 0이고 표준편차가 1인 가우시안 분포를 따르는 난수\n",
    "gmat = np.random.randn(2, 3)\n",
    "print(gmat)\n",
    "# 특정 배열에서 특정 개수를 뽑기\n",
    "charmat = np.array(['a', 'b', 'c', 'd', 'e'])\n",
    "picked = np.random.choice(charmat, 3)\n",
    "print(picked)\n",
    "# 중복선택 방지\n",
    "picked = np.random.choice(charmat, 3, replace=False)\n",
    "print(picked)"
   ]
  },
  {
   "cell_type": "code",
   "execution_count": 9,
   "metadata": {},
   "outputs": [
    {
     "data": {
      "text/plain": [
       "dtype('float64')"
      ]
     },
     "execution_count": 9,
     "metadata": {},
     "output_type": "execute_result"
    }
   ],
   "source": [
    "# 배열 원소의 데이터 타입 확인\n",
    "rndmat.dtype"
   ]
  },
  {
   "cell_type": "code",
   "execution_count": 32,
   "metadata": {},
   "outputs": [
    {
     "name": "stdout",
     "output_type": "stream",
     "text": [
      "[1 3 5 7 9]\n",
      "(5,)\n",
      "[ 1  3  5  7  9 11]\n",
      "(6,)\n",
      "[ 1  3  5  7  9 11 13 15]\n",
      "[ 1  3  5  7  9 11 13 15 17 19 21]\n",
      "(11,)\n"
     ]
    },
    {
     "data": {
      "text/plain": [
       "(3,)"
      ]
     },
     "execution_count": 32,
     "metadata": {},
     "output_type": "execute_result"
    }
   ],
   "source": [
    "# 행렬에 내용 추가\n",
    "A = np.arange(1, 10, 2)\n",
    "print(A)\n",
    "print(A.shape)\n",
    "A = np.append(A, 11)\n",
    "print(A)\n",
    "print(A.shape)\n",
    "A = np.append(A, [13, 15])\n",
    "print(A)\n",
    "B = [17, 19, 21]\n",
    "A = np.append(A, B)\n",
    "print(A)\n",
    "print(A.shape)"
   ]
  },
  {
   "cell_type": "code",
   "execution_count": 32,
   "metadata": {},
   "outputs": [
    {
     "name": "stdout",
     "output_type": "stream",
     "text": [
      "[2 2 2 2 2 2 2 2 2 2]\n",
      "(10,)\n",
      "[0 0 0 0 0 0 0 0 0]\n",
      "[0 0 0 0 0 0 0 0 0]\n"
     ]
    }
   ],
   "source": [
    "# 차분 벡터 구하기\n",
    "diffvec = np.diff(A)\n",
    "print(diffvec)\n",
    "print(diffvec.shape)\n",
    "diffvec2 = np.diff(diffvec)\n",
    "diffvec3 = np.diff(A, n=2)\n",
    "print(diffvec2)\n",
    "print(diffvec3)"
   ]
  },
  {
   "cell_type": "code",
   "execution_count": 33,
   "metadata": {},
   "outputs": [
    {
     "name": "stdout",
     "output_type": "stream",
     "text": [
      "[[1 2 3]\n",
      " [4 5 6]\n",
      " [7 8 9]]\n",
      "[[1 4 7]\n",
      " [2 5 8]\n",
      " [3 6 9]]\n",
      "2\n"
     ]
    }
   ],
   "source": [
    "# 행렬 쌓기\n",
    "a = np.array([1, 2, 3])\n",
    "b = np.array([4, 5, 6])\n",
    "c = np.array([7, 8, 9])\n",
    "\n",
    "v = np.vstack((a, b, c))\n",
    "print(v)\n",
    "co = np.column_stack((a, b, c))\n",
    "print(co)\n",
    "\n",
    "# 행렬의 차원 파악\n",
    "print(v.ndim)"
   ]
  },
  {
   "cell_type": "code",
   "execution_count": 53,
   "metadata": {},
   "outputs": [
    {
     "name": "stdout",
     "output_type": "stream",
     "text": [
      "1\n",
      "2\n",
      "[1 2 3]\n",
      "[1 6]\n",
      " \n",
      "[5 8]\n",
      "[1 5 8]\n"
     ]
    }
   ],
   "source": [
    "# 배열 인덱스 접근\n",
    "arr = np.array([1, 2, 3, 4, 5, 6])\n",
    "arr = arr.reshape(2, 3)\n",
    "print(arr[0, 0])\n",
    "print(arr[0, 1])\n",
    "print(arr[0, :])\n",
    "print(arr[[0, 1],[0, 2]])\n",
    "print(\" \")\n",
    "\n",
    "# 배열의 일부만 따오기\n",
    "tot = np.array([1, 5, 8, 11, 51, 67, 88, 91])\n",
    "s1 = tot[1:3]\n",
    "print(s1)\n",
    "s2 = tot[0:3]\n",
    "print(s2)"
   ]
  },
  {
   "cell_type": "code",
   "execution_count": 42,
   "metadata": {},
   "outputs": [
    {
     "name": "stdout",
     "output_type": "stream",
     "text": [
      "[ 2  4  6  8 10]\n",
      "[ 2  6 10 14 18]\n"
     ]
    }
   ],
   "source": [
    "# 브로드캐스팅\n",
    "K = 1\n",
    "N = np.array([1, 3, 5, 7, 9])\n",
    "print(K+N)\n",
    "K = 2\n",
    "print(K*N)"
   ]
  }
 ],
 "metadata": {
  "kernelspec": {
   "display_name": "Python 3",
   "language": "python",
   "name": "python3"
  },
  "language_info": {
   "codemirror_mode": {
    "name": "ipython",
    "version": 3
   },
   "file_extension": ".py",
   "mimetype": "text/x-python",
   "name": "python",
   "nbconvert_exporter": "python",
   "pygments_lexer": "ipython3",
   "version": "3.7.3"
  }
 },
 "nbformat": 4,
 "nbformat_minor": 2
}
