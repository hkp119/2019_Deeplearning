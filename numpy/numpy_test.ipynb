{
 "cells": [
  {
   "cell_type": "code",
   "execution_count": 2,
   "metadata": {},
   "outputs": [],
   "source": [
    "import numpy as np"
   ]
  },
  {
   "cell_type": "code",
   "execution_count": 6,
   "metadata": {},
   "outputs": [],
   "source": [
    "# 넘파이 배열 생성\n",
    "A = np.array([1, 2, 3, 4, 5, 6, 7, 8, 9])\n",
    "B = np.array([[1, 2, 3], [4, 5, 6], [7, 8, 9]])"
   ]
  },
  {
   "cell_type": "code",
   "execution_count": 4,
   "metadata": {},
   "outputs": [
    {
     "name": "stdout",
     "output_type": "stream",
     "text": [
      "[1 2 3 4 5 6 7 8 9]\n",
      "[[1 2 3]\n",
      " [4 5 6]\n",
      " [7 8 9]]\n"
     ]
    }
   ],
   "source": [
    "print(A)\n",
    "print(B)"
   ]
  },
  {
   "cell_type": "code",
   "execution_count": 7,
   "metadata": {},
   "outputs": [
    {
     "name": "stdout",
     "output_type": "stream",
     "text": [
      "[0 1 2 3 4 5 6 7 8 9]\n",
      "[0.  0.1 0.2 0.3 0.4 0.5 0.6 0.7 0.8 0.9]\n"
     ]
    }
   ],
   "source": [
    "# 일정 step으로 증가하는 배열 생성\n",
    "step = np.arange(0, 10, 1)\n",
    "print(step)\n",
    "step2 = np.arange(0, 1, 0.1)\n",
    "print(step2)"
   ]
  },
  {
   "cell_type": "code",
   "execution_count": 6,
   "metadata": {},
   "outputs": [
    {
     "data": {
      "text/plain": [
       "(10,)"
      ]
     },
     "execution_count": 6,
     "metadata": {},
     "output_type": "execute_result"
    }
   ],
   "source": [
    "step.shape"
   ]
  },
  {
   "cell_type": "code",
   "execution_count": 9,
   "metadata": {},
   "outputs": [
    {
     "data": {
      "text/plain": [
       "array([[0. , 0.1, 0.2, 0.3, 0.4],\n",
       "       [0.5, 0.6, 0.7, 0.8, 0.9]])"
      ]
     },
     "execution_count": 9,
     "metadata": {},
     "output_type": "execute_result"
    }
   ],
   "source": [
    "# 행렬 모양 바꾸기\n",
    "step2.reshape(2, 5)"
   ]
  },
  {
   "cell_type": "code",
   "execution_count": 10,
   "metadata": {},
   "outputs": [
    {
     "name": "stdout",
     "output_type": "stream",
     "text": [
      "[[0. 0.]\n",
      " [0. 0.]]\n"
     ]
    }
   ],
   "source": [
    "# 영행렬 생성\n",
    "zeromat = np.zeros((2, 2))\n",
    "print(zeromat)"
   ]
  },
  {
   "cell_type": "code",
   "execution_count": 11,
   "metadata": {},
   "outputs": [
    {
     "name": "stdout",
     "output_type": "stream",
     "text": [
      "[[1. 0. 0. 0.]\n",
      " [0. 1. 0. 0.]\n",
      " [0. 0. 1. 0.]\n",
      " [0. 0. 0. 1.]]\n"
     ]
    }
   ],
   "source": [
    "# 단위행렬 생성\n",
    "I = np.eye(4)\n",
    "print(I)"
   ]
  },
  {
   "cell_type": "code",
   "execution_count": 36,
   "metadata": {},
   "outputs": [
    {
     "name": "stdout",
     "output_type": "stream",
     "text": [
      "[[1. 2. 3.]\n",
      " [4. 5. 6.]\n",
      " [7. 8. 9.]]\n"
     ]
    }
   ],
   "source": [
    "# 행렬 곱셈\n",
    "I = np.eye(3)\n",
    "A = np.array([1, 2, 3, 4, 5, 6, 7, 8, 9])\n",
    "A = A.reshape(3, 3)\n",
    "M = np.dot(A, I)\n",
    "print(M)"
   ]
  },
  {
   "cell_type": "code",
   "execution_count": 38,
   "metadata": {},
   "outputs": [
    {
     "name": "stdout",
     "output_type": "stream",
     "text": [
      "45\n",
      "[ 6 15 24]\n",
      "[12 15 18]\n",
      "[13  6 10]\n",
      "[42  9  9]\n"
     ]
    }
   ],
   "source": [
    "# 행렬 요소의 합\n",
    "S = np.sum(A)\n",
    "print(S)\n",
    "# 각 행의 합\n",
    "S2 = np.sum(A, axis=1)\n",
    "#각 열의 합\n",
    "S3 = np.sum(A, axis=0)\n",
    "print(S2)\n",
    "print(S3)\n",
    "# 두 행렬 각 요소의 합\n",
    "mat1 = np.array([7, 3, 1])\n",
    "mat2 = np.array([6, 3, 9])\n",
    "mat3 = mat1 + mat2\n",
    "print(mat3)\n",
    "# 두 행렬 각 요소의 곱\n",
    "mat4 = mat1 * mat2\n",
    "print(mat4)"
   ]
  },
  {
   "cell_type": "code",
   "execution_count": 8,
   "metadata": {},
   "outputs": [
    {
     "name": "stdout",
     "output_type": "stream",
     "text": [
      "[[0.94280805 0.26292658 0.1253214 ]\n",
      " [0.86479623 0.55955821 0.34005442]]\n"
     ]
    }
   ],
   "source": [
    "# 랜덤값을 가지는 행렬 만들기\n",
    "rndmat = np.random.rand(2, 3)\n",
    "print(rndmat)"
   ]
  },
  {
   "cell_type": "code",
   "execution_count": 9,
   "metadata": {},
   "outputs": [
    {
     "data": {
      "text/plain": [
       "dtype('float64')"
      ]
     },
     "execution_count": 9,
     "metadata": {},
     "output_type": "execute_result"
    }
   ],
   "source": [
    "rndmat.dtype"
   ]
  },
  {
   "cell_type": "code",
   "execution_count": 29,
   "metadata": {},
   "outputs": [
    {
     "name": "stdout",
     "output_type": "stream",
     "text": [
      "[1 3 5 7 9]\n",
      "(5,)\n",
      "[ 1  3  5  7  9 11]\n",
      "(6,)\n",
      "[ 1  3  5  7  9 11 13 15]\n",
      "[ 1  3  5  7  9 11 13 15 17 19 21]\n",
      "(11,)\n"
     ]
    }
   ],
   "source": [
    "# 행렬에 내용 추가\n",
    "A = np.arange(1, 10, 2)\n",
    "print(A)\n",
    "print(A.shape)\n",
    "A = np.append(A, 11)\n",
    "print(A)\n",
    "print(A.shape)\n",
    "A = np.append(A, [13, 15])\n",
    "print(A)\n",
    "B = [17, 19, 21]\n",
    "A = np.append(A, B)\n",
    "print(A)\n",
    "print(A.shape)"
   ]
  },
  {
   "cell_type": "code",
   "execution_count": 32,
   "metadata": {},
   "outputs": [
    {
     "name": "stdout",
     "output_type": "stream",
     "text": [
      "[2 2 2 2 2 2 2 2 2 2]\n",
      "(10,)\n",
      "[0 0 0 0 0 0 0 0 0]\n",
      "[0 0 0 0 0 0 0 0 0]\n"
     ]
    }
   ],
   "source": [
    "# 차분 벡터 구하기\n",
    "diffvec = np.diff(A)\n",
    "print(diffvec)\n",
    "print(diffvec.shape)\n",
    "diffvec2 = np.diff(diffvec)\n",
    "diffvec3 = np.diff(A, n=2)\n",
    "print(diffvec2)\n",
    "print(diffvec3)"
   ]
  },
  {
   "cell_type": "code",
   "execution_count": 34,
   "metadata": {},
   "outputs": [
    {
     "name": "stdout",
     "output_type": "stream",
     "text": [
      "[[1 2 3]\n",
      " [4 5 6]\n",
      " [7 8 9]]\n",
      "[[1 4 7]\n",
      " [2 5 8]\n",
      " [3 6 9]]\n"
     ]
    }
   ],
   "source": [
    "# 행렬 쌓기\n",
    "a = np.array([1, 2, 3])\n",
    "b = np.array([4, 5, 6])\n",
    "c = np.array([7, 8, 9])\n",
    "\n",
    "v = np.vstack((a, b, c))\n",
    "print(v)\n",
    "co = np.column_stack((a, b, c))\n",
    "print(co)"
   ]
  },
  {
   "cell_type": "code",
   "execution_count": 40,
   "metadata": {},
   "outputs": [
    {
     "name": "stdout",
     "output_type": "stream",
     "text": [
      "[5 8]\n",
      "[1 5 8]\n"
     ]
    }
   ],
   "source": [
    "# 행렬 일부만 따오기\n",
    "tot = np.array([1, 5, 8, 11, 51, 67, 88, 91])\n",
    "s1 = tot[1:3]\n",
    "print(s1)\n",
    "s2 = tot[0:3]\n",
    "print(s2)"
   ]
  },
  {
   "cell_type": "code",
   "execution_count": 42,
   "metadata": {},
   "outputs": [
    {
     "name": "stdout",
     "output_type": "stream",
     "text": [
      "[ 2  4  6  8 10]\n",
      "[ 2  6 10 14 18]\n"
     ]
    }
   ],
   "source": [
    "# 브로드캐스팅\n",
    "K = 1\n",
    "N = np.array([1, 3, 5, 7, 9])\n",
    "print(K+N)\n",
    "K = 2\n",
    "print(K*N)"
   ]
  }
 ],
 "metadata": {
  "kernelspec": {
   "display_name": "Python 3",
   "language": "python",
   "name": "python3"
  },
  "language_info": {
   "codemirror_mode": {
    "name": "ipython",
    "version": 3
   },
   "file_extension": ".py",
   "mimetype": "text/x-python",
   "name": "python",
   "nbconvert_exporter": "python",
   "pygments_lexer": "ipython3",
   "version": "3.6.8"
  }
 },
 "nbformat": 4,
 "nbformat_minor": 2
}
